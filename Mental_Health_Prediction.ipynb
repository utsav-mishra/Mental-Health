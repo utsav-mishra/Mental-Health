{
  "nbformat": 4,
  "nbformat_minor": 0,
  "metadata": {
    "colab": {
      "name": "Mental Health Prediction.ipynb",
      "provenance": [],
      "toc_visible": true,
      "authorship_tag": "ABX9TyO1f3ccdbeCSKbLDKDzw5lA",
      "include_colab_link": true
    },
    "kernelspec": {
      "name": "python3",
      "display_name": "Python 3"
    },
    "language_info": {
      "name": "python"
    }
  },
  "cells": [
    {
      "cell_type": "markdown",
      "metadata": {
        "id": "view-in-github",
        "colab_type": "text"
      },
      "source": [
        "<a href=\"https://colab.research.google.com/github/utsav-mishra/Utsav/blob/master/Mental_Health_Prediction.ipynb\" target=\"_parent\"><img src=\"https://colab.research.google.com/assets/colab-badge.svg\" alt=\"Open In Colab\"/></a>"
      ]
    },
    {
      "cell_type": "code",
      "metadata": {
        "id": "o98empH_lMWE"
      },
      "source": [
        "import numpy as np\n",
        "import pandas as pd\n",
        "\n",
        "import matplotlib.pyplot as plt\n",
        "\n",
        "from sklearn.preprocessing import StandardScaler\n",
        "from sklearn.model_selection import train_test_split\n",
        "\n",
        "import tensorflow as tf"
      ],
      "execution_count": 3,
      "outputs": []
    },
    {
      "cell_type": "code",
      "metadata": {
        "id": "seBcSRkGlPC2"
      },
      "source": [
        "data = pd.read_csv('survey.csv')"
      ],
      "execution_count": 4,
      "outputs": []
    },
    {
      "cell_type": "code",
      "metadata": {
        "colab": {
          "base_uri": "https://localhost:8080/",
          "height": 758
        },
        "id": "6KgXRI6WlqTq",
        "outputId": "a74592ac-bb26-4da1-9652-8894c6b225a5"
      },
      "source": [
        "data"
      ],
      "execution_count": 5,
      "outputs": [
        {
          "output_type": "execute_result",
          "data": {
            "text/html": [
              "<div>\n",
              "<style scoped>\n",
              "    .dataframe tbody tr th:only-of-type {\n",
              "        vertical-align: middle;\n",
              "    }\n",
              "\n",
              "    .dataframe tbody tr th {\n",
              "        vertical-align: top;\n",
              "    }\n",
              "\n",
              "    .dataframe thead th {\n",
              "        text-align: right;\n",
              "    }\n",
              "</style>\n",
              "<table border=\"1\" class=\"dataframe\">\n",
              "  <thead>\n",
              "    <tr style=\"text-align: right;\">\n",
              "      <th></th>\n",
              "      <th>Timestamp</th>\n",
              "      <th>Age</th>\n",
              "      <th>Gender</th>\n",
              "      <th>Country</th>\n",
              "      <th>state</th>\n",
              "      <th>self_employed</th>\n",
              "      <th>family_history</th>\n",
              "      <th>treatment</th>\n",
              "      <th>work_interfere</th>\n",
              "      <th>no_employees</th>\n",
              "      <th>remote_work</th>\n",
              "      <th>tech_company</th>\n",
              "      <th>benefits</th>\n",
              "      <th>care_options</th>\n",
              "      <th>wellness_program</th>\n",
              "      <th>seek_help</th>\n",
              "      <th>anonymity</th>\n",
              "      <th>leave</th>\n",
              "      <th>mental_health_consequence</th>\n",
              "      <th>phys_health_consequence</th>\n",
              "      <th>coworkers</th>\n",
              "      <th>supervisor</th>\n",
              "      <th>mental_health_interview</th>\n",
              "      <th>phys_health_interview</th>\n",
              "      <th>mental_vs_physical</th>\n",
              "      <th>obs_consequence</th>\n",
              "      <th>comments</th>\n",
              "    </tr>\n",
              "  </thead>\n",
              "  <tbody>\n",
              "    <tr>\n",
              "      <th>0</th>\n",
              "      <td>2014-08-27 11:29:31</td>\n",
              "      <td>37</td>\n",
              "      <td>Female</td>\n",
              "      <td>United States</td>\n",
              "      <td>IL</td>\n",
              "      <td>NaN</td>\n",
              "      <td>No</td>\n",
              "      <td>Yes</td>\n",
              "      <td>Often</td>\n",
              "      <td>6-25</td>\n",
              "      <td>No</td>\n",
              "      <td>Yes</td>\n",
              "      <td>Yes</td>\n",
              "      <td>Not sure</td>\n",
              "      <td>No</td>\n",
              "      <td>Yes</td>\n",
              "      <td>Yes</td>\n",
              "      <td>Somewhat easy</td>\n",
              "      <td>No</td>\n",
              "      <td>No</td>\n",
              "      <td>Some of them</td>\n",
              "      <td>Yes</td>\n",
              "      <td>No</td>\n",
              "      <td>Maybe</td>\n",
              "      <td>Yes</td>\n",
              "      <td>No</td>\n",
              "      <td>NaN</td>\n",
              "    </tr>\n",
              "    <tr>\n",
              "      <th>1</th>\n",
              "      <td>2014-08-27 11:29:37</td>\n",
              "      <td>44</td>\n",
              "      <td>M</td>\n",
              "      <td>United States</td>\n",
              "      <td>IN</td>\n",
              "      <td>NaN</td>\n",
              "      <td>No</td>\n",
              "      <td>No</td>\n",
              "      <td>Rarely</td>\n",
              "      <td>More than 1000</td>\n",
              "      <td>No</td>\n",
              "      <td>No</td>\n",
              "      <td>Don't know</td>\n",
              "      <td>No</td>\n",
              "      <td>Don't know</td>\n",
              "      <td>Don't know</td>\n",
              "      <td>Don't know</td>\n",
              "      <td>Don't know</td>\n",
              "      <td>Maybe</td>\n",
              "      <td>No</td>\n",
              "      <td>No</td>\n",
              "      <td>No</td>\n",
              "      <td>No</td>\n",
              "      <td>No</td>\n",
              "      <td>Don't know</td>\n",
              "      <td>No</td>\n",
              "      <td>NaN</td>\n",
              "    </tr>\n",
              "    <tr>\n",
              "      <th>2</th>\n",
              "      <td>2014-08-27 11:29:44</td>\n",
              "      <td>32</td>\n",
              "      <td>Male</td>\n",
              "      <td>Canada</td>\n",
              "      <td>NaN</td>\n",
              "      <td>NaN</td>\n",
              "      <td>No</td>\n",
              "      <td>No</td>\n",
              "      <td>Rarely</td>\n",
              "      <td>6-25</td>\n",
              "      <td>No</td>\n",
              "      <td>Yes</td>\n",
              "      <td>No</td>\n",
              "      <td>No</td>\n",
              "      <td>No</td>\n",
              "      <td>No</td>\n",
              "      <td>Don't know</td>\n",
              "      <td>Somewhat difficult</td>\n",
              "      <td>No</td>\n",
              "      <td>No</td>\n",
              "      <td>Yes</td>\n",
              "      <td>Yes</td>\n",
              "      <td>Yes</td>\n",
              "      <td>Yes</td>\n",
              "      <td>No</td>\n",
              "      <td>No</td>\n",
              "      <td>NaN</td>\n",
              "    </tr>\n",
              "    <tr>\n",
              "      <th>3</th>\n",
              "      <td>2014-08-27 11:29:46</td>\n",
              "      <td>31</td>\n",
              "      <td>Male</td>\n",
              "      <td>United Kingdom</td>\n",
              "      <td>NaN</td>\n",
              "      <td>NaN</td>\n",
              "      <td>Yes</td>\n",
              "      <td>Yes</td>\n",
              "      <td>Often</td>\n",
              "      <td>26-100</td>\n",
              "      <td>No</td>\n",
              "      <td>Yes</td>\n",
              "      <td>No</td>\n",
              "      <td>Yes</td>\n",
              "      <td>No</td>\n",
              "      <td>No</td>\n",
              "      <td>No</td>\n",
              "      <td>Somewhat difficult</td>\n",
              "      <td>Yes</td>\n",
              "      <td>Yes</td>\n",
              "      <td>Some of them</td>\n",
              "      <td>No</td>\n",
              "      <td>Maybe</td>\n",
              "      <td>Maybe</td>\n",
              "      <td>No</td>\n",
              "      <td>Yes</td>\n",
              "      <td>NaN</td>\n",
              "    </tr>\n",
              "    <tr>\n",
              "      <th>4</th>\n",
              "      <td>2014-08-27 11:30:22</td>\n",
              "      <td>31</td>\n",
              "      <td>Male</td>\n",
              "      <td>United States</td>\n",
              "      <td>TX</td>\n",
              "      <td>NaN</td>\n",
              "      <td>No</td>\n",
              "      <td>No</td>\n",
              "      <td>Never</td>\n",
              "      <td>100-500</td>\n",
              "      <td>Yes</td>\n",
              "      <td>Yes</td>\n",
              "      <td>Yes</td>\n",
              "      <td>No</td>\n",
              "      <td>Don't know</td>\n",
              "      <td>Don't know</td>\n",
              "      <td>Don't know</td>\n",
              "      <td>Don't know</td>\n",
              "      <td>No</td>\n",
              "      <td>No</td>\n",
              "      <td>Some of them</td>\n",
              "      <td>Yes</td>\n",
              "      <td>Yes</td>\n",
              "      <td>Yes</td>\n",
              "      <td>Don't know</td>\n",
              "      <td>No</td>\n",
              "      <td>NaN</td>\n",
              "    </tr>\n",
              "    <tr>\n",
              "      <th>...</th>\n",
              "      <td>...</td>\n",
              "      <td>...</td>\n",
              "      <td>...</td>\n",
              "      <td>...</td>\n",
              "      <td>...</td>\n",
              "      <td>...</td>\n",
              "      <td>...</td>\n",
              "      <td>...</td>\n",
              "      <td>...</td>\n",
              "      <td>...</td>\n",
              "      <td>...</td>\n",
              "      <td>...</td>\n",
              "      <td>...</td>\n",
              "      <td>...</td>\n",
              "      <td>...</td>\n",
              "      <td>...</td>\n",
              "      <td>...</td>\n",
              "      <td>...</td>\n",
              "      <td>...</td>\n",
              "      <td>...</td>\n",
              "      <td>...</td>\n",
              "      <td>...</td>\n",
              "      <td>...</td>\n",
              "      <td>...</td>\n",
              "      <td>...</td>\n",
              "      <td>...</td>\n",
              "      <td>...</td>\n",
              "    </tr>\n",
              "    <tr>\n",
              "      <th>1254</th>\n",
              "      <td>2015-09-12 11:17:21</td>\n",
              "      <td>26</td>\n",
              "      <td>male</td>\n",
              "      <td>United Kingdom</td>\n",
              "      <td>NaN</td>\n",
              "      <td>No</td>\n",
              "      <td>No</td>\n",
              "      <td>Yes</td>\n",
              "      <td>NaN</td>\n",
              "      <td>26-100</td>\n",
              "      <td>No</td>\n",
              "      <td>Yes</td>\n",
              "      <td>No</td>\n",
              "      <td>No</td>\n",
              "      <td>No</td>\n",
              "      <td>No</td>\n",
              "      <td>Don't know</td>\n",
              "      <td>Somewhat easy</td>\n",
              "      <td>No</td>\n",
              "      <td>No</td>\n",
              "      <td>Some of them</td>\n",
              "      <td>Some of them</td>\n",
              "      <td>No</td>\n",
              "      <td>No</td>\n",
              "      <td>Don't know</td>\n",
              "      <td>No</td>\n",
              "      <td>NaN</td>\n",
              "    </tr>\n",
              "    <tr>\n",
              "      <th>1255</th>\n",
              "      <td>2015-09-26 01:07:35</td>\n",
              "      <td>32</td>\n",
              "      <td>Male</td>\n",
              "      <td>United States</td>\n",
              "      <td>IL</td>\n",
              "      <td>No</td>\n",
              "      <td>Yes</td>\n",
              "      <td>Yes</td>\n",
              "      <td>Often</td>\n",
              "      <td>26-100</td>\n",
              "      <td>Yes</td>\n",
              "      <td>Yes</td>\n",
              "      <td>Yes</td>\n",
              "      <td>Yes</td>\n",
              "      <td>No</td>\n",
              "      <td>No</td>\n",
              "      <td>Yes</td>\n",
              "      <td>Somewhat difficult</td>\n",
              "      <td>No</td>\n",
              "      <td>No</td>\n",
              "      <td>Some of them</td>\n",
              "      <td>Yes</td>\n",
              "      <td>No</td>\n",
              "      <td>No</td>\n",
              "      <td>Yes</td>\n",
              "      <td>No</td>\n",
              "      <td>NaN</td>\n",
              "    </tr>\n",
              "    <tr>\n",
              "      <th>1256</th>\n",
              "      <td>2015-11-07 12:36:58</td>\n",
              "      <td>34</td>\n",
              "      <td>male</td>\n",
              "      <td>United States</td>\n",
              "      <td>CA</td>\n",
              "      <td>No</td>\n",
              "      <td>Yes</td>\n",
              "      <td>Yes</td>\n",
              "      <td>Sometimes</td>\n",
              "      <td>More than 1000</td>\n",
              "      <td>No</td>\n",
              "      <td>Yes</td>\n",
              "      <td>Yes</td>\n",
              "      <td>Yes</td>\n",
              "      <td>No</td>\n",
              "      <td>No</td>\n",
              "      <td>Don't know</td>\n",
              "      <td>Somewhat difficult</td>\n",
              "      <td>Yes</td>\n",
              "      <td>Yes</td>\n",
              "      <td>No</td>\n",
              "      <td>No</td>\n",
              "      <td>No</td>\n",
              "      <td>No</td>\n",
              "      <td>No</td>\n",
              "      <td>No</td>\n",
              "      <td>NaN</td>\n",
              "    </tr>\n",
              "    <tr>\n",
              "      <th>1257</th>\n",
              "      <td>2015-11-30 21:25:06</td>\n",
              "      <td>46</td>\n",
              "      <td>f</td>\n",
              "      <td>United States</td>\n",
              "      <td>NC</td>\n",
              "      <td>No</td>\n",
              "      <td>No</td>\n",
              "      <td>No</td>\n",
              "      <td>NaN</td>\n",
              "      <td>100-500</td>\n",
              "      <td>Yes</td>\n",
              "      <td>Yes</td>\n",
              "      <td>No</td>\n",
              "      <td>Yes</td>\n",
              "      <td>No</td>\n",
              "      <td>No</td>\n",
              "      <td>Don't know</td>\n",
              "      <td>Don't know</td>\n",
              "      <td>Yes</td>\n",
              "      <td>No</td>\n",
              "      <td>No</td>\n",
              "      <td>No</td>\n",
              "      <td>No</td>\n",
              "      <td>No</td>\n",
              "      <td>No</td>\n",
              "      <td>No</td>\n",
              "      <td>NaN</td>\n",
              "    </tr>\n",
              "    <tr>\n",
              "      <th>1258</th>\n",
              "      <td>2016-02-01 23:04:31</td>\n",
              "      <td>25</td>\n",
              "      <td>Male</td>\n",
              "      <td>United States</td>\n",
              "      <td>IL</td>\n",
              "      <td>No</td>\n",
              "      <td>Yes</td>\n",
              "      <td>Yes</td>\n",
              "      <td>Sometimes</td>\n",
              "      <td>26-100</td>\n",
              "      <td>No</td>\n",
              "      <td>No</td>\n",
              "      <td>Yes</td>\n",
              "      <td>Yes</td>\n",
              "      <td>No</td>\n",
              "      <td>No</td>\n",
              "      <td>Yes</td>\n",
              "      <td>Don't know</td>\n",
              "      <td>Maybe</td>\n",
              "      <td>No</td>\n",
              "      <td>Some of them</td>\n",
              "      <td>No</td>\n",
              "      <td>No</td>\n",
              "      <td>No</td>\n",
              "      <td>Don't know</td>\n",
              "      <td>No</td>\n",
              "      <td>NaN</td>\n",
              "    </tr>\n",
              "  </tbody>\n",
              "</table>\n",
              "<p>1259 rows × 27 columns</p>\n",
              "</div>"
            ],
            "text/plain": [
              "                Timestamp  Age  ... obs_consequence comments\n",
              "0     2014-08-27 11:29:31   37  ...              No      NaN\n",
              "1     2014-08-27 11:29:37   44  ...              No      NaN\n",
              "2     2014-08-27 11:29:44   32  ...              No      NaN\n",
              "3     2014-08-27 11:29:46   31  ...             Yes      NaN\n",
              "4     2014-08-27 11:30:22   31  ...              No      NaN\n",
              "...                   ...  ...  ...             ...      ...\n",
              "1254  2015-09-12 11:17:21   26  ...              No      NaN\n",
              "1255  2015-09-26 01:07:35   32  ...              No      NaN\n",
              "1256  2015-11-07 12:36:58   34  ...              No      NaN\n",
              "1257  2015-11-30 21:25:06   46  ...              No      NaN\n",
              "1258  2016-02-01 23:04:31   25  ...              No      NaN\n",
              "\n",
              "[1259 rows x 27 columns]"
            ]
          },
          "metadata": {
            "tags": []
          },
          "execution_count": 5
        }
      ]
    },
    {
      "cell_type": "code",
      "metadata": {
        "id": "7wF6WtXTlw-F"
      },
      "source": [
        "data.isna().sum()"
      ],
      "execution_count": null,
      "outputs": []
    },
    {
      "cell_type": "code",
      "metadata": {
        "id": "iX9XmQZJmD_Q"
      },
      "source": [
        "data = data.drop('comments', axis=1)"
      ],
      "execution_count": 7,
      "outputs": []
    },
    {
      "cell_type": "code",
      "metadata": {
        "colab": {
          "base_uri": "https://localhost:8080/"
        },
        "id": "NW6KnAD6mIp2",
        "outputId": "72589a49-20b9-42fb-920e-c7a387002ef6"
      },
      "source": [
        "data['self_employed'].unique()"
      ],
      "execution_count": 8,
      "outputs": [
        {
          "output_type": "execute_result",
          "data": {
            "text/plain": [
              "array([nan, 'Yes', 'No'], dtype=object)"
            ]
          },
          "metadata": {
            "tags": []
          },
          "execution_count": 8
        }
      ]
    },
    {
      "cell_type": "code",
      "metadata": {
        "colab": {
          "base_uri": "https://localhost:8080/"
        },
        "id": "Y3EO6GbjmORG",
        "outputId": "81df44ef-5ab6-4871-8443-879c4edef5c6"
      },
      "source": [
        "data['self_employed'].mode()"
      ],
      "execution_count": 9,
      "outputs": [
        {
          "output_type": "execute_result",
          "data": {
            "text/plain": [
              "0    No\n",
              "dtype: object"
            ]
          },
          "metadata": {
            "tags": []
          },
          "execution_count": 9
        }
      ]
    },
    {
      "cell_type": "code",
      "metadata": {
        "id": "prrIiu2TpXbZ"
      },
      "source": [
        "data['self_employed'] = data['self_employed'].fillna('No')\n"
      ],
      "execution_count": 10,
      "outputs": []
    },
    {
      "cell_type": "code",
      "metadata": {
        "colab": {
          "base_uri": "https://localhost:8080/"
        },
        "id": "Ol6eXAfYpf89",
        "outputId": "f63597a8-4f99-4f65-b489-a8d7958544f1"
      },
      "source": [
        "data['work_interfere'].unique()"
      ],
      "execution_count": 11,
      "outputs": [
        {
          "output_type": "execute_result",
          "data": {
            "text/plain": [
              "array(['Often', 'Rarely', 'Never', 'Sometimes', nan], dtype=object)"
            ]
          },
          "metadata": {
            "tags": []
          },
          "execution_count": 11
        }
      ]
    },
    {
      "cell_type": "code",
      "metadata": {
        "colab": {
          "base_uri": "https://localhost:8080/"
        },
        "id": "76Vd_n3epmpQ",
        "outputId": "7a0f8f1a-358a-4213-86d7-9c7a2d87fea0"
      },
      "source": [
        "data['work_interfere'].mode()"
      ],
      "execution_count": 12,
      "outputs": [
        {
          "output_type": "execute_result",
          "data": {
            "text/plain": [
              "0    Sometimes\n",
              "dtype: object"
            ]
          },
          "metadata": {
            "tags": []
          },
          "execution_count": 12
        }
      ]
    },
    {
      "cell_type": "code",
      "metadata": {
        "id": "gbFkkm_yptk4"
      },
      "source": [
        "data['work_interfere'] = data['work_interfere'].fillna('Sometimes')"
      ],
      "execution_count": 13,
      "outputs": []
    },
    {
      "cell_type": "code",
      "metadata": {
        "id": "FMsf8B2Apv4i"
      },
      "source": [
        "data"
      ],
      "execution_count": null,
      "outputs": []
    },
    {
      "cell_type": "code",
      "metadata": {
        "id": "WjjmlLgupzS7"
      },
      "source": [
        "data['Timestamp']"
      ],
      "execution_count": null,
      "outputs": []
    },
    {
      "cell_type": "code",
      "metadata": {
        "id": "YuftdtpUp3YC"
      },
      "source": [
        "data['Year'] = data['Timestamp'].apply(lambda x: np.int(x[0:4]))\n",
        "data['Month'] = data['Timestamp'].apply(lambda x: np.int(x[5:7]))\n",
        "data['Day'] = data['Timestamp'].apply(lambda x: np.int(x[8:10]))\n",
        "\n",
        "data['Hour'] = data['Timestamp'].apply(lambda x: np.int(x[11:13]))\n",
        "data['Minute'] = data['Timestamp'].apply(lambda x: np.int(x[14:16]))\n",
        "data['Second'] = data['Timestamp'].apply(lambda x: np.int(x[17:19]))\n",
        "\n",
        "data = data.drop('Timestamp', axis=1)"
      ],
      "execution_count": 16,
      "outputs": []
    },
    {
      "cell_type": "code",
      "metadata": {
        "id": "ZlIBdNWNp8BG"
      },
      "source": [
        "\n",
        "data"
      ],
      "execution_count": null,
      "outputs": []
    },
    {
      "cell_type": "code",
      "metadata": {
        "colab": {
          "base_uri": "https://localhost:8080/"
        },
        "id": "NBO3uAoAp_3a",
        "outputId": "9859c294-25d8-463f-b75d-765321f4dc7d"
      },
      "source": [
        "{column: len(data[column].unique()) for column in data.select_dtypes('object').columns}"
      ],
      "execution_count": 18,
      "outputs": [
        {
          "output_type": "execute_result",
          "data": {
            "text/plain": [
              "{'Country': 48,\n",
              " 'Gender': 49,\n",
              " 'anonymity': 3,\n",
              " 'benefits': 3,\n",
              " 'care_options': 3,\n",
              " 'coworkers': 3,\n",
              " 'family_history': 2,\n",
              " 'leave': 5,\n",
              " 'mental_health_consequence': 3,\n",
              " 'mental_health_interview': 3,\n",
              " 'mental_vs_physical': 3,\n",
              " 'no_employees': 6,\n",
              " 'obs_consequence': 2,\n",
              " 'phys_health_consequence': 3,\n",
              " 'phys_health_interview': 3,\n",
              " 'remote_work': 2,\n",
              " 'seek_help': 3,\n",
              " 'self_employed': 2,\n",
              " 'state': 46,\n",
              " 'supervisor': 3,\n",
              " 'tech_company': 2,\n",
              " 'treatment': 2,\n",
              " 'wellness_program': 3,\n",
              " 'work_interfere': 4}"
            ]
          },
          "metadata": {
            "tags": []
          },
          "execution_count": 18
        }
      ]
    },
    {
      "cell_type": "code",
      "metadata": {
        "id": "HtpvUBQ6qMy7"
      },
      "source": [
        "{column: list(data[column].unique()) for column in data.select_dtypes('object').columns}"
      ],
      "execution_count": null,
      "outputs": []
    },
    {
      "cell_type": "code",
      "metadata": {
        "id": "ZzizeLE9qSYu"
      },
      "source": [
        "def encode_gender(x):\n",
        "    if x.lower()[0] == 'f':\n",
        "        return 0\n",
        "    elif x.lower()[0] == 'm':\n",
        "        return 1\n",
        "    else:\n",
        "        return 2"
      ],
      "execution_count": 20,
      "outputs": []
    },
    {
      "cell_type": "code",
      "metadata": {
        "id": "fL8viu3rqXZF"
      },
      "source": [
        "data['Gender'] = data['Gender'].apply(encode_gender)"
      ],
      "execution_count": 21,
      "outputs": []
    },
    {
      "cell_type": "code",
      "metadata": {
        "id": "mRZlI_jwqZgY"
      },
      "source": [
        "target = 'treatment'\n",
        "\n",
        "binary_features = [\n",
        "    'self_employed',\n",
        "    'family_history',\n",
        "    'remote_work',\n",
        "    'tech_company',\n",
        "    'obs_consequence'\n",
        "]\n",
        "\n",
        "ordinal_features = [\n",
        "    'work_interfere',\n",
        "    'no_employees'\n",
        "]\n",
        "nominal_features = [\n",
        "    'Country',\n",
        "    'state',\n",
        "    'benefits',\n",
        "    'care_options',\n",
        "    'wellness_program',\n",
        "    'seek_help',\n",
        "    'anonymity',\n",
        "    'leave',\n",
        "    'mental_health_consequence',\n",
        "    'phys_health_consequence',\n",
        "    'coworkers',\n",
        "    'supervisor',\n",
        "    'mental_health_interview',\n",
        "    'phys_health_interview',\n",
        "    'mental_vs_physical'\n",
        "]"
      ],
      "execution_count": 22,
      "outputs": []
    },
    {
      "cell_type": "code",
      "metadata": {
        "id": "AC4y7n2AqkoS"
      },
      "source": [
        "def binary_encode(df, columns, positive_values):\n",
        "    df = df.copy()\n",
        "    for column, positive_value in zip(columns, positive_values):\n",
        "        df[column] = df[column].apply(lambda x: 1 if x == positive_value else 0)\n",
        "    return df\n",
        "\n",
        "def ordinal_encode(df, columns, orderings):\n",
        "    df = df.copy()\n",
        "    for column, ordering in zip(columns, orderings):\n",
        "        df[column] = df[column].apply(lambda x: ordering.index(x))\n",
        "    return df\n",
        "\n",
        "def onehot_encode(df, columns, prefixes):\n",
        "    df = df.copy()\n",
        "    for column, prefix in zip(columns, prefixes):\n",
        "        dummies = pd.get_dummies(df[column], prefix)\n",
        "        df = pd.concat([df, dummies], axis=1)\n",
        "        df = df.drop(column, axis=1)\n",
        "    return df"
      ],
      "execution_count": 23,
      "outputs": []
    },
    {
      "cell_type": "markdown",
      "metadata": {
        "id": "WGSF_A0eQwL8"
      },
      "source": [
        "# New section"
      ]
    },
    {
      "cell_type": "code",
      "metadata": {
        "id": "snHgGtiXqlTj"
      },
      "source": [
        "binary_positive_values = ['Yes' for feature in binary_features]\n",
        "\n",
        "ordinal_orderings = [\n",
        "    ['Never', 'Rarely', 'Sometimes', 'Often'],\n",
        "    ['1-5', '6-25', '26-100', '100-500', '500-1000', 'More than 1000']\n",
        "]\n",
        "\n",
        "nominal_prefixes = [\n",
        "    'co',\n",
        "    'st',\n",
        "    're',\n",
        "    'be',\n",
        "    'ca',\n",
        "    'we',\n",
        "    'se',\n",
        "    'an',\n",
        "    'le',\n",
        "    'mc',\n",
        "    'ph',\n",
        "    'cw',\n",
        "    'su',\n",
        "    'mi',\n",
        "    'pi',\n",
        "    'mp'\n",
        "]"
      ],
      "execution_count": 24,
      "outputs": []
    },
    {
      "cell_type": "code",
      "metadata": {
        "id": "cIIJd5jwqrD8"
      },
      "source": [
        "data = binary_encode(\n",
        "    data,\n",
        "    columns=binary_features,\n",
        "    positive_values=binary_positive_values\n",
        ")\n",
        "\n",
        "data = ordinal_encode(\n",
        "    data,\n",
        "    columns=ordinal_features,\n",
        "    orderings=ordinal_orderings\n",
        ")\n",
        "\n",
        "data = onehot_encode(\n",
        "    data,\n",
        "    columns=nominal_features,\n",
        "    prefixes=nominal_prefixes\n",
        ")"
      ],
      "execution_count": 25,
      "outputs": []
    },
    {
      "cell_type": "code",
      "metadata": {
        "id": "_-rRq-GcquO8"
      },
      "source": [
        "data = binary_encode(data, columns=['treatment'], positive_values=['Yes'])"
      ],
      "execution_count": 26,
      "outputs": []
    },
    {
      "cell_type": "code",
      "metadata": {
        "colab": {
          "base_uri": "https://localhost:8080/"
        },
        "id": "d6UT3nDkq4k9",
        "outputId": "f161cdcd-c610-4224-e405-7cb88fbacd85"
      },
      "source": [
        "print(\"Remaining missing values:\", data.isna().sum().sum())"
      ],
      "execution_count": 27,
      "outputs": [
        {
          "output_type": "stream",
          "text": [
            "Remaining missing values: 0\n"
          ],
          "name": "stdout"
        }
      ]
    },
    {
      "cell_type": "code",
      "metadata": {
        "id": "QXCFjtbyq6vC"
      },
      "source": [
        "y = data['treatment'].copy()\n",
        "X = data.drop('treatment', axis=1).copy()"
      ],
      "execution_count": 28,
      "outputs": []
    },
    {
      "cell_type": "code",
      "metadata": {
        "id": "CI4xwRX7q-HI"
      },
      "source": [
        "scaler = StandardScaler()\n",
        "\n",
        "X = scaler.fit_transform(X)"
      ],
      "execution_count": 29,
      "outputs": []
    },
    {
      "cell_type": "code",
      "metadata": {
        "id": "Rfylg33GrAUi"
      },
      "source": [
        "X_train, X_test, y_train, y_test = train_test_split(X, y, train_size=0.8, random_state=100)"
      ],
      "execution_count": 30,
      "outputs": []
    },
    {
      "cell_type": "code",
      "metadata": {
        "colab": {
          "base_uri": "https://localhost:8080/"
        },
        "id": "JJNzv2a9rC34",
        "outputId": "ac4363df-cae5-4784-bd36-946b66b58550"
      },
      "source": [
        "print(\"Class Distribution (Positive to Negative): {:.1f}% / {:.1f}%\".format(y_train.mean() * 100, (1 - y_train.mean()) * 100))"
      ],
      "execution_count": 31,
      "outputs": [
        {
          "output_type": "stream",
          "text": [
            "Class Distribution (Positive to Negative): 49.6% / 50.4%\n"
          ],
          "name": "stdout"
        }
      ]
    },
    {
      "cell_type": "code",
      "metadata": {
        "colab": {
          "base_uri": "https://localhost:8080/"
        },
        "id": "LYypVqe1rtRL",
        "outputId": "3f0e3999-ebcc-47ef-bf89-61970a9ba115"
      },
      "source": [
        "inputs = tf.keras.Input(shape=(X.shape[1],))\n",
        "x = tf.keras.layers.Dense(1024, activation='relu')(inputs)\n",
        "x = tf.keras.layers.Dense(1024, activation='relu')(x)\n",
        "outputs = tf.keras.layers.Dense(1, activation='sigmoid')(x)\n",
        "\n",
        "model = tf.keras.Model(inputs, outputs)\n",
        "\n",
        "\n",
        "model.compile(\n",
        "    optimizer='adam',\n",
        "    loss='binary_crossentropy',\n",
        "    metrics=[\n",
        "        'accuracy',\n",
        "        tf.keras.metrics.AUC(name='auc')\n",
        "    ]\n",
        ")\n",
        "\n",
        "\n",
        "batch_size = 64\n",
        "epochs = 50\n",
        "\n",
        "history = model.fit(\n",
        "    X_train,\n",
        "    y_train,\n",
        "    validation_split=0.2,\n",
        "    batch_size=batch_size,\n",
        "    epochs=epochs,\n",
        "    callbacks=[\n",
        "        tf.keras.callbacks.ReduceLROnPlateau()\n",
        "    ]\n",
        ")"
      ],
      "execution_count": 32,
      "outputs": [
        {
          "output_type": "stream",
          "text": [
            "Epoch 1/50\n",
            "13/13 [==============================] - 2s 56ms/step - loss: 0.7881 - accuracy: 0.5601 - auc: 0.5937 - val_loss: 0.6527 - val_accuracy: 0.6287 - val_auc: 0.6942\n",
            "Epoch 2/50\n",
            "13/13 [==============================] - 0s 25ms/step - loss: 0.4817 - accuracy: 0.7791 - auc: 0.8629 - val_loss: 0.7318 - val_accuracy: 0.6089 - val_auc: 0.6779\n",
            "Epoch 3/50\n",
            "13/13 [==============================] - 0s 27ms/step - loss: 0.3949 - accuracy: 0.8159 - auc: 0.9241 - val_loss: 0.7971 - val_accuracy: 0.6287 - val_auc: 0.6872\n",
            "Epoch 4/50\n",
            "13/13 [==============================] - 0s 28ms/step - loss: 0.3016 - accuracy: 0.8804 - auc: 0.9495 - val_loss: 0.9062 - val_accuracy: 0.6188 - val_auc: 0.6786\n",
            "Epoch 5/50\n",
            "13/13 [==============================] - 0s 25ms/step - loss: 0.2530 - accuracy: 0.8963 - auc: 0.9715 - val_loss: 0.9597 - val_accuracy: 0.6287 - val_auc: 0.6760\n",
            "Epoch 6/50\n",
            "13/13 [==============================] - 0s 26ms/step - loss: 0.1806 - accuracy: 0.9411 - auc: 0.9876 - val_loss: 1.0882 - val_accuracy: 0.6188 - val_auc: 0.6750\n",
            "Epoch 7/50\n",
            "13/13 [==============================] - 0s 25ms/step - loss: 0.1062 - accuracy: 0.9835 - auc: 0.9980 - val_loss: 1.2442 - val_accuracy: 0.6287 - val_auc: 0.6754\n",
            "Epoch 8/50\n",
            "13/13 [==============================] - 0s 27ms/step - loss: 0.0779 - accuracy: 0.9867 - auc: 0.9988 - val_loss: 1.3641 - val_accuracy: 0.6238 - val_auc: 0.6695\n",
            "Epoch 9/50\n",
            "13/13 [==============================] - 0s 26ms/step - loss: 0.0454 - accuracy: 0.9957 - auc: 0.9998 - val_loss: 1.5856 - val_accuracy: 0.6238 - val_auc: 0.6616\n",
            "Epoch 10/50\n",
            "13/13 [==============================] - 0s 25ms/step - loss: 0.0251 - accuracy: 0.9965 - auc: 1.0000 - val_loss: 1.7781 - val_accuracy: 0.6238 - val_auc: 0.6588\n",
            "Epoch 11/50\n",
            "13/13 [==============================] - 0s 26ms/step - loss: 0.0140 - accuracy: 0.9991 - auc: 0.9999 - val_loss: 1.9282 - val_accuracy: 0.6139 - val_auc: 0.6666\n",
            "Epoch 12/50\n",
            "13/13 [==============================] - 0s 26ms/step - loss: 0.0100 - accuracy: 1.0000 - auc: 1.0000 - val_loss: 1.9433 - val_accuracy: 0.6089 - val_auc: 0.6571\n",
            "Epoch 13/50\n",
            "13/13 [==============================] - 0s 26ms/step - loss: 0.0102 - accuracy: 1.0000 - auc: 1.0000 - val_loss: 1.9604 - val_accuracy: 0.6040 - val_auc: 0.6528\n",
            "Epoch 14/50\n",
            "13/13 [==============================] - 0s 26ms/step - loss: 0.0099 - accuracy: 1.0000 - auc: 1.0000 - val_loss: 1.9766 - val_accuracy: 0.6089 - val_auc: 0.6527\n",
            "Epoch 15/50\n",
            "13/13 [==============================] - 0s 26ms/step - loss: 0.0090 - accuracy: 1.0000 - auc: 1.0000 - val_loss: 1.9892 - val_accuracy: 0.6089 - val_auc: 0.6532\n",
            "Epoch 16/50\n",
            "13/13 [==============================] - 0s 26ms/step - loss: 0.0087 - accuracy: 1.0000 - auc: 1.0000 - val_loss: 2.0032 - val_accuracy: 0.6139 - val_auc: 0.6515\n",
            "Epoch 17/50\n",
            "13/13 [==============================] - 0s 26ms/step - loss: 0.0103 - accuracy: 1.0000 - auc: 1.0000 - val_loss: 2.0183 - val_accuracy: 0.6089 - val_auc: 0.6535\n",
            "Epoch 18/50\n",
            "13/13 [==============================] - 0s 27ms/step - loss: 0.0073 - accuracy: 1.0000 - auc: 1.0000 - val_loss: 2.0315 - val_accuracy: 0.6139 - val_auc: 0.6529\n",
            "Epoch 19/50\n",
            "13/13 [==============================] - 0s 27ms/step - loss: 0.0083 - accuracy: 1.0000 - auc: 1.0000 - val_loss: 2.0442 - val_accuracy: 0.6188 - val_auc: 0.6531\n",
            "Epoch 20/50\n",
            "13/13 [==============================] - 0s 25ms/step - loss: 0.0080 - accuracy: 1.0000 - auc: 1.0000 - val_loss: 2.0583 - val_accuracy: 0.6188 - val_auc: 0.6535\n",
            "Epoch 21/50\n",
            "13/13 [==============================] - 0s 26ms/step - loss: 0.0063 - accuracy: 1.0000 - auc: 1.0000 - val_loss: 2.0726 - val_accuracy: 0.6139 - val_auc: 0.6535\n",
            "Epoch 22/50\n",
            "13/13 [==============================] - 0s 25ms/step - loss: 0.0057 - accuracy: 1.0000 - auc: 1.0000 - val_loss: 2.0739 - val_accuracy: 0.6139 - val_auc: 0.6536\n",
            "Epoch 23/50\n",
            "13/13 [==============================] - 0s 26ms/step - loss: 0.0064 - accuracy: 1.0000 - auc: 1.0000 - val_loss: 2.0751 - val_accuracy: 0.6139 - val_auc: 0.6541\n",
            "Epoch 24/50\n",
            "13/13 [==============================] - 0s 26ms/step - loss: 0.0054 - accuracy: 1.0000 - auc: 1.0000 - val_loss: 2.0764 - val_accuracy: 0.6188 - val_auc: 0.6537\n",
            "Epoch 25/50\n",
            "13/13 [==============================] - 0s 25ms/step - loss: 0.0059 - accuracy: 1.0000 - auc: 1.0000 - val_loss: 2.0779 - val_accuracy: 0.6188 - val_auc: 0.6544\n",
            "Epoch 26/50\n",
            "13/13 [==============================] - 0s 25ms/step - loss: 0.0061 - accuracy: 1.0000 - auc: 1.0000 - val_loss: 2.0792 - val_accuracy: 0.6188 - val_auc: 0.6544\n",
            "Epoch 27/50\n",
            "13/13 [==============================] - 0s 26ms/step - loss: 0.0063 - accuracy: 1.0000 - auc: 1.0000 - val_loss: 2.0806 - val_accuracy: 0.6188 - val_auc: 0.6542\n",
            "Epoch 28/50\n",
            "13/13 [==============================] - 0s 25ms/step - loss: 0.0065 - accuracy: 1.0000 - auc: 1.0000 - val_loss: 2.0822 - val_accuracy: 0.6188 - val_auc: 0.6528\n",
            "Epoch 29/50\n",
            "13/13 [==============================] - 0s 25ms/step - loss: 0.0060 - accuracy: 1.0000 - auc: 1.0000 - val_loss: 2.0837 - val_accuracy: 0.6188 - val_auc: 0.6529\n",
            "Epoch 30/50\n",
            "13/13 [==============================] - 0s 26ms/step - loss: 0.0064 - accuracy: 1.0000 - auc: 1.0000 - val_loss: 2.0852 - val_accuracy: 0.6188 - val_auc: 0.6530\n",
            "Epoch 31/50\n",
            "13/13 [==============================] - 0s 25ms/step - loss: 0.0060 - accuracy: 1.0000 - auc: 1.0000 - val_loss: 2.0869 - val_accuracy: 0.6188 - val_auc: 0.6530\n",
            "Epoch 32/50\n",
            "13/13 [==============================] - 0s 26ms/step - loss: 0.0060 - accuracy: 1.0000 - auc: 1.0000 - val_loss: 2.0870 - val_accuracy: 0.6188 - val_auc: 0.6530\n",
            "Epoch 33/50\n",
            "13/13 [==============================] - 0s 26ms/step - loss: 0.0056 - accuracy: 1.0000 - auc: 1.0000 - val_loss: 2.0872 - val_accuracy: 0.6188 - val_auc: 0.6530\n",
            "Epoch 34/50\n",
            "13/13 [==============================] - 0s 26ms/step - loss: 0.0059 - accuracy: 1.0000 - auc: 1.0000 - val_loss: 2.0874 - val_accuracy: 0.6188 - val_auc: 0.6530\n",
            "Epoch 35/50\n",
            "13/13 [==============================] - 0s 24ms/step - loss: 0.0063 - accuracy: 1.0000 - auc: 1.0000 - val_loss: 2.0875 - val_accuracy: 0.6188 - val_auc: 0.6530\n",
            "Epoch 36/50\n",
            "13/13 [==============================] - 0s 29ms/step - loss: 0.0062 - accuracy: 1.0000 - auc: 1.0000 - val_loss: 2.0877 - val_accuracy: 0.6188 - val_auc: 0.6530\n",
            "Epoch 37/50\n",
            "13/13 [==============================] - 0s 25ms/step - loss: 0.0050 - accuracy: 1.0000 - auc: 1.0000 - val_loss: 2.0879 - val_accuracy: 0.6188 - val_auc: 0.6530\n",
            "Epoch 38/50\n",
            "13/13 [==============================] - 0s 25ms/step - loss: 0.0065 - accuracy: 1.0000 - auc: 1.0000 - val_loss: 2.0881 - val_accuracy: 0.6188 - val_auc: 0.6530\n",
            "Epoch 39/50\n",
            "13/13 [==============================] - 0s 26ms/step - loss: 0.0059 - accuracy: 1.0000 - auc: 1.0000 - val_loss: 2.0882 - val_accuracy: 0.6188 - val_auc: 0.6530\n",
            "Epoch 40/50\n",
            "13/13 [==============================] - 0s 26ms/step - loss: 0.0060 - accuracy: 1.0000 - auc: 1.0000 - val_loss: 2.0884 - val_accuracy: 0.6188 - val_auc: 0.6530\n",
            "Epoch 41/50\n",
            "13/13 [==============================] - 0s 25ms/step - loss: 0.0058 - accuracy: 1.0000 - auc: 1.0000 - val_loss: 2.0886 - val_accuracy: 0.6188 - val_auc: 0.6530\n",
            "Epoch 42/50\n",
            "13/13 [==============================] - 0s 26ms/step - loss: 0.0059 - accuracy: 1.0000 - auc: 1.0000 - val_loss: 2.0887 - val_accuracy: 0.6188 - val_auc: 0.6530\n",
            "Epoch 43/50\n",
            "13/13 [==============================] - 0s 27ms/step - loss: 0.0059 - accuracy: 1.0000 - auc: 1.0000 - val_loss: 2.0887 - val_accuracy: 0.6188 - val_auc: 0.6530\n",
            "Epoch 44/50\n",
            "13/13 [==============================] - 0s 26ms/step - loss: 0.0061 - accuracy: 1.0000 - auc: 1.0000 - val_loss: 2.0887 - val_accuracy: 0.6188 - val_auc: 0.6530\n",
            "Epoch 45/50\n",
            "13/13 [==============================] - 0s 26ms/step - loss: 0.0061 - accuracy: 1.0000 - auc: 1.0000 - val_loss: 2.0887 - val_accuracy: 0.6188 - val_auc: 0.6530\n",
            "Epoch 46/50\n",
            "13/13 [==============================] - 0s 27ms/step - loss: 0.0063 - accuracy: 1.0000 - auc: 1.0000 - val_loss: 2.0887 - val_accuracy: 0.6188 - val_auc: 0.6530\n",
            "Epoch 47/50\n",
            "13/13 [==============================] - 0s 26ms/step - loss: 0.0072 - accuracy: 1.0000 - auc: 1.0000 - val_loss: 2.0888 - val_accuracy: 0.6188 - val_auc: 0.6530\n",
            "Epoch 48/50\n",
            "13/13 [==============================] - 0s 27ms/step - loss: 0.0057 - accuracy: 1.0000 - auc: 1.0000 - val_loss: 2.0888 - val_accuracy: 0.6188 - val_auc: 0.6530\n",
            "Epoch 49/50\n",
            "13/13 [==============================] - 0s 25ms/step - loss: 0.0065 - accuracy: 1.0000 - auc: 1.0000 - val_loss: 2.0888 - val_accuracy: 0.6188 - val_auc: 0.6530\n",
            "Epoch 50/50\n",
            "13/13 [==============================] - 0s 26ms/step - loss: 0.0061 - accuracy: 1.0000 - auc: 1.0000 - val_loss: 2.0888 - val_accuracy: 0.6188 - val_auc: 0.6530\n"
          ],
          "name": "stdout"
        }
      ]
    },
    {
      "cell_type": "code",
      "metadata": {
        "colab": {
          "base_uri": "https://localhost:8080/",
          "height": 404
        },
        "id": "NGic__mjr9MU",
        "outputId": "2eb880f2-fee8-467b-abd2-e43b91db63cc"
      },
      "source": [
        "plt.figure(figsize=(12, 6))\n",
        "\n",
        "plt.plot(range(epochs), history.history['accuracy'], label=\"Training Accuracy\")\n",
        "plt.plot(range(epochs), history.history['val_accuracy'], label=\"Validation Accuracy\")\n",
        "\n",
        "plt.xlabel(\"Epoch\")\n",
        "plt.ylabel(\"Accuracy\")\n",
        "\n",
        "plt.legend()\n",
        "plt.title(\"Accuracy Over Time\")\n",
        "\n",
        "plt.show()"
      ],
      "execution_count": 33,
      "outputs": [
        {
          "output_type": "display_data",
          "data": {
            "image/png": "[encoded data removed]",
            "text/plain": [
              "<Figure size 864x432 with 1 Axes>"
            ]
          },
          "metadata": {
            "tags": [],
            "needs_background": "light"
          }
        }
      ]
    },
    {
      "cell_type": "code",
      "metadata": {
        "colab": {
          "base_uri": "https://localhost:8080/"
        },
        "id": "6CGbGTIMsD1R",
        "outputId": "8d19bfb6-5fb1-4275-d07f-0bdb0ac56a71"
      },
      "source": [
        "model.evaluate(X_test, y_test)"
      ],
      "execution_count": 34,
      "outputs": [
        {
          "output_type": "stream",
          "text": [
            "8/8 [==============================] - 0s 5ms/step - loss: 2.0566 - accuracy: 0.6786 - auc: 0.7185\n"
          ],
          "name": "stdout"
        },
        {
          "output_type": "execute_result",
          "data": {
            "text/plain": [
              "[2.0565834045410156, 0.6785714030265808, 0.7185036540031433]"
            ]
          },
          "metadata": {
            "tags": []
          },
          "execution_count": 34
        }
      ]
    },
    {
      "cell_type": "code",
      "metadata": {
        "id": "_znZUMKKsIFT"
      },
      "source": [
        ""
      ],
      "execution_count": null,
      "outputs": []
    }
  ]
}